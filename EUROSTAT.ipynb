{
 "cells": [
  {
   "cell_type": "code",
   "execution_count": 1,
   "metadata": {},
   "outputs": [
    {
     "data": {
      "text/html": [
       "\n",
       "                <script type=\"application/javascript\" id=\"jupyter_black\">\n",
       "                (function() {\n",
       "                    if (window.IPython === undefined) {\n",
       "                        return\n",
       "                    }\n",
       "                    var msg = \"WARNING: it looks like you might have loaded \" +\n",
       "                        \"jupyter_black in a non-lab notebook with \" +\n",
       "                        \"`is_lab=True`. Please double check, and if \" +\n",
       "                        \"loading with `%load_ext` please review the README!\"\n",
       "                    console.log(msg)\n",
       "                    alert(msg)\n",
       "                })()\n",
       "                </script>\n",
       "                "
      ],
      "text/plain": [
       "<IPython.core.display.HTML object>"
      ]
     },
     "metadata": {},
     "output_type": "display_data"
    }
   ],
   "source": [
    "import pandas as pd\n",
    "import xarray as xr\n",
    "import numpy as np\n",
    "import matplotlib.pyplot as plt\n",
    "import pyprind\n",
    "import eurostat\n",
    "import os\n",
    "import datetime as D\n",
    "\n",
    "plt.style.use(\"ggplot\")\n",
    "%matplotlib inline\n",
    "%load_ext jupyter_black"
   ]
  },
  {
   "cell_type": "code",
   "execution_count": 2,
   "metadata": {},
   "outputs": [],
   "source": [
    "def analyse_dataset(dataset_code):\n",
    "    parameters = eurostat.get_pars(dataset_code)\n",
    "    print(parameters)\n",
    "    for param in parameters:\n",
    "        param_values = eurostat.get_par_values(dataset_code, param)\n",
    "        print(param)\n",
    "        print(param_values)"
   ]
  },
  {
   "cell_type": "markdown",
   "metadata": {},
   "source": [
    "# Download data"
   ]
  },
  {
   "cell_type": "markdown",
   "metadata": {},
   "source": [
    "## Excess mortality"
   ]
  },
  {
   "cell_type": "code",
   "execution_count": 3,
   "metadata": {},
   "outputs": [
    {
     "name": "stdout",
     "output_type": "stream",
     "text": [
      "['freq', 'unit', 'geo']\n",
      "freq\n",
      "['M']\n",
      "unit\n",
      "['PC']\n",
      "geo\n",
      "['EU27_2020', 'BE', 'BG', 'CZ', 'DK', 'DE', 'EE', 'IE', 'EL', 'ES', 'FR', 'HR', 'IT', 'CY', 'LV', 'LT', 'LU', 'HU', 'MT', 'NL', 'AT', 'PL', 'PT', 'RO', 'SI', 'SK', 'FI', 'SE', 'IS', 'LI', 'NO', 'CH']\n"
     ]
    }
   ],
   "source": [
    "dataset_code = \"demo_mexrt\"\n",
    "analyse_dataset(dataset_code)"
   ]
  },
  {
   "cell_type": "code",
   "execution_count": 4,
   "metadata": {},
   "outputs": [
    {
     "data": {
      "text/plain": [
       "descr    Percentage\n",
       "Name: PC, dtype: object"
      ]
     },
     "execution_count": 4,
     "metadata": {},
     "output_type": "execute_result"
    }
   ],
   "source": [
    "dic = eurostat.get_dic(dataset_code, \"unit\")\n",
    "df = pd.DataFrame(dic, columns=[\"val\", \"descr\"])\n",
    "df = df.set_index(\"val\")\n",
    "df.loc[\"PC\"]"
   ]
  },
  {
   "cell_type": "code",
   "execution_count": 5,
   "metadata": {},
   "outputs": [
    {
     "name": "stdout",
     "output_type": "stream",
     "text": [
      "Data downloaded\n"
     ]
    }
   ],
   "source": [
    "dataset_code = \"demo_mexrt\"\n",
    "\n",
    "path = f\"data/ds_{dataset_code}.nc\"\n",
    "if not os.path.exists(path):\n",
    "    df = eurostat.get_data_df(dataset_code)\n",
    "    df = df.set_index(\"geo\\TIME_PERIOD\")\n",
    "    df.index.name = \"location\"\n",
    "    df = df[[col for col in df.columns if \"20\" in col]].T\n",
    "    df.index = pd.to_datetime(df.index)\n",
    "    df.index.name = \"date\"\n",
    "    ds = df.stack().to_xarray()\n",
    "    ds.to_netcdf(f\"data/ds_{dataset_code}.nc\")\n",
    "    print(\"Data downloaded\")\n",
    "else:\n",
    "    print(\"Data already downloaded\")"
   ]
  },
  {
   "cell_type": "markdown",
   "metadata": {},
   "source": [
    "## Death by week"
   ]
  },
  {
   "cell_type": "code",
   "execution_count": 6,
   "metadata": {},
   "outputs": [],
   "source": [
    "dataset_code = \"demo_r_mwk_05\""
   ]
  },
  {
   "cell_type": "code",
   "execution_count": 7,
   "metadata": {},
   "outputs": [
    {
     "name": "stdout",
     "output_type": "stream",
     "text": [
      "['freq', 'age', 'sex', 'unit', 'geo']\n",
      "freq\n",
      "['W']\n",
      "age\n",
      "['TOTAL', 'Y_LT5', 'Y5-9', 'Y10-14', 'Y15-19', 'Y20-24', 'Y25-29', 'Y30-34', 'Y35-39', 'Y40-44', 'Y45-49', 'Y50-54', 'Y55-59', 'Y60-64', 'Y65-69', 'Y70-74', 'Y75-79', 'Y80-84', 'Y85-89', 'Y_GE90', 'UNK']\n",
      "sex\n",
      "['T', 'M', 'F']\n",
      "unit\n",
      "['NR']\n",
      "geo\n",
      "['EU27_2020', 'BE', 'BG', 'CZ', 'DK', 'DE', 'EE', 'IE', 'EL', 'ES', 'FR', 'HR', 'IT', 'CY', 'LV', 'LT', 'LU', 'HU', 'MT', 'NL', 'AT', 'PL', 'PT', 'RO', 'SI', 'SK', 'FI', 'SE', 'IS', 'LI', 'NO', 'CH', 'UK', 'ME', 'GE', 'AL', 'RS', 'AD', 'AM']\n"
     ]
    }
   ],
   "source": [
    "analyse_dataset(dataset_code)"
   ]
  },
  {
   "cell_type": "code",
   "execution_count": 8,
   "metadata": {},
   "outputs": [
    {
     "data": {
      "text/plain": [
       "descr    Number\n",
       "Name: NR, dtype: object"
      ]
     },
     "execution_count": 8,
     "metadata": {},
     "output_type": "execute_result"
    }
   ],
   "source": [
    "dic = eurostat.get_dic(dataset_code, \"unit\")\n",
    "df = pd.DataFrame(dic, columns=[\"val\", \"descr\"])\n",
    "df = df.set_index(\"val\")\n",
    "df.loc[\"NR\"]"
   ]
  },
  {
   "cell_type": "code",
   "execution_count": 9,
   "metadata": {},
   "outputs": [
    {
     "name": "stdout",
     "output_type": "stream",
     "text": [
      "Data downloaded\n"
     ]
    }
   ],
   "source": [
    "dataset_code = \"demo_r_mwk_05\"\n",
    "\n",
    "path = f\"data/ds_{dataset_code}.nc\"\n",
    "if not os.path.exists(path):\n",
    "    df = eurostat.get_data_df(dataset_code)\n",
    "    df = df.set_index([\"age\", \"sex\", \"geo\\TIME_PERIOD\"])\n",
    "    df.index.names = [\"age\", \"sex\", \"location\"]\n",
    "    df = df[[col for col in df.columns if \"20\" in col]].T\n",
    "    df.index = pd.date_range(\"2000-01-01\", \"2025-01-01\", freq=\"W\")[0 : df.shape[0]]\n",
    "    # df.index = pd.to_datetime([D.datetime.strptime(date, \"%Y-W%W\") for date in df.index])\n",
    "    df.index.name = \"date\"\n",
    "    ds = df.unstack().to_xarray()\n",
    "    ds.to_netcdf(f\"data/ds_{dataset_code}.nc\")\n",
    "    print(\"Data downloaded\")\n",
    "else:\n",
    "    print(\"Data already downloaded\")"
   ]
  },
  {
   "cell_type": "markdown",
   "metadata": {},
   "source": [
    "## Population by age"
   ]
  },
  {
   "cell_type": "code",
   "execution_count": 10,
   "metadata": {},
   "outputs": [
    {
     "name": "stdout",
     "output_type": "stream",
     "text": [
      "['freq', 'unit', 'age', 'sex', 'geo']\n",
      "freq\n",
      "['A']\n",
      "unit\n",
      "['NR']\n",
      "age\n",
      "['TOTAL', 'Y_LT1', 'Y1', 'Y2', 'Y3', 'Y4', 'Y5', 'Y6', 'Y7', 'Y8', 'Y9', 'Y10', 'Y11', 'Y12', 'Y13', 'Y14', 'Y15', 'Y16', 'Y17', 'Y18', 'Y19', 'Y20', 'Y21', 'Y22', 'Y23', 'Y24', 'Y25', 'Y26', 'Y27', 'Y28', 'Y29', 'Y30', 'Y31', 'Y32', 'Y33', 'Y34', 'Y35', 'Y36', 'Y37', 'Y38', 'Y39', 'Y40', 'Y41', 'Y42', 'Y43', 'Y44', 'Y45', 'Y46', 'Y47', 'Y48', 'Y49', 'Y50', 'Y51', 'Y52', 'Y53', 'Y54', 'Y55', 'Y56', 'Y57', 'Y58', 'Y59', 'Y60', 'Y61', 'Y62', 'Y63', 'Y64', 'Y65', 'Y66', 'Y67', 'Y68', 'Y69', 'Y70', 'Y71', 'Y72', 'Y73', 'Y74', 'Y75', 'Y76', 'Y77', 'Y78', 'Y79', 'Y80', 'Y81', 'Y82', 'Y83', 'Y84', 'Y85', 'Y86', 'Y87', 'Y88', 'Y89', 'Y90', 'Y91', 'Y92', 'Y93', 'Y94', 'Y95', 'Y96', 'Y97', 'Y98', 'Y99', 'Y_OPEN', 'UNK']\n",
      "sex\n",
      "['T', 'M', 'F']\n",
      "geo\n",
      "['EU27_2020', 'EU28', 'EU27_2007', 'EA20', 'EA19', 'BE', 'BG', 'CZ', 'DK', 'DE', 'DE_TOT', 'EE', 'IE', 'EL', 'ES', 'FR', 'FX', 'HR', 'IT', 'CY', 'LV', 'LT', 'LU', 'HU', 'MT', 'NL', 'AT', 'PL', 'PT', 'RO', 'SI', 'SK', 'FI', 'SE', 'EEA31', 'EEA30_2007', 'EFTA', 'IS', 'LI', 'NO', 'CH', 'UK', 'BA', 'ME', 'MD', 'MK', 'GE', 'AL', 'RS', 'TR', 'UA', 'XK', 'AD', 'BY', 'MC', 'RU', 'SM', 'AM', 'AZ']\n"
     ]
    }
   ],
   "source": [
    "dataset_code = \"demo_pjan\"\n",
    "analyse_dataset(dataset_code)"
   ]
  },
  {
   "cell_type": "code",
   "execution_count": 11,
   "metadata": {},
   "outputs": [
    {
     "name": "stdout",
     "output_type": "stream",
     "text": [
      "Data downloaded\n"
     ]
    }
   ],
   "source": [
    "dataset_code = \"demo_pjan\"\n",
    "\n",
    "path = f\"data/ds_{dataset_code}.nc\"\n",
    "if not os.path.exists(path):\n",
    "    df = eurostat.get_data_df(dataset_code)\n",
    "    df = df.set_index([\"age\", \"sex\", \"geo\\TIME_PERIOD\"])\n",
    "    df.index.names = [\"age\", \"sex\", \"location\"]\n",
    "    df = df[[str(date) for date in list(np.arange(1960, 2024))]].T\n",
    "    df.index = pd.to_datetime(df.index, format=\"%Y\")\n",
    "    df.index.name = \"date\"\n",
    "    ds = df.unstack().to_xarray()\n",
    "    ds.to_netcdf(f\"data/ds_{dataset_code}.nc\")\n",
    "    print(\"Data downloaded\")\n",
    "else:\n",
    "    print(\"Data already downloaded\")"
   ]
  },
  {
   "cell_type": "code",
   "execution_count": null,
   "metadata": {},
   "outputs": [],
   "source": []
  }
 ],
 "metadata": {
  "kernelspec": {
   "display_name": "python311",
   "language": "python",
   "name": "python3"
  },
  "language_info": {
   "codemirror_mode": {
    "name": "ipython",
    "version": 3
   },
   "file_extension": ".py",
   "mimetype": "text/x-python",
   "name": "python",
   "nbconvert_exporter": "python",
   "pygments_lexer": "ipython3",
   "version": "3.11.0"
  }
 },
 "nbformat": 4,
 "nbformat_minor": 2
}
